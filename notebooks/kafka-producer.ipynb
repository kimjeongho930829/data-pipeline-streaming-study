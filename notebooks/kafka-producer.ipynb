{
 "cells": [
  {
   "cell_type": "code",
   "execution_count": null,
   "metadata": {
    "_cell_guid": "b1076dfc-b9ad-4769-8c92-a6c4dae69d19",
    "_uuid": "8f2839f25d086af736a60e9eeb907d3b93b6e0e5",
    "execution": {
     "iopub.execute_input": "2025-02-01T09:53:51.208680Z",
     "iopub.status.busy": "2025-02-01T09:53:51.208284Z",
     "iopub.status.idle": "2025-02-01T09:53:57.256727Z",
     "shell.execute_reply": "2025-02-01T09:53:57.255558Z",
     "shell.execute_reply.started": "2025-02-01T09:53:51.208647Z"
    },
    "trusted": true
   },
   "outputs": [],
   "source": [
    "!pip install confluent_kafka"
   ]
  },
  {
   "cell_type": "code",
   "execution_count": null,
   "metadata": {
    "execution": {
     "iopub.execute_input": "2025-02-01T09:54:00.849130Z",
     "iopub.status.busy": "2025-02-01T09:54:00.848765Z",
     "iopub.status.idle": "2025-02-01T09:54:04.370453Z",
     "shell.execute_reply": "2025-02-01T09:54:04.369137Z",
     "shell.execute_reply.started": "2025-02-01T09:54:00.849097Z"
    },
    "trusted": true
   },
   "outputs": [],
   "source": [
    "!pip show confluent_kafka"
   ]
  },
  {
   "cell_type": "code",
   "execution_count": null,
   "metadata": {
    "execution": {
     "iopub.execute_input": "2025-02-01T10:00:17.867644Z",
     "iopub.status.busy": "2025-02-01T10:00:17.867246Z",
     "iopub.status.idle": "2025-02-01T10:00:22.573472Z",
     "shell.execute_reply": "2025-02-01T10:00:22.572146Z",
     "shell.execute_reply.started": "2025-02-01T10:00:17.867614Z"
    },
    "trusted": true
   },
   "outputs": [],
   "source": [
    "import json\n",
    "import os\n",
    "import pandas as pd\n",
    "from dotenv import load_dotenv\n",
    "from confluent_kafka import Producer\n",
    "\n",
    "# .env 파일 로드\n",
    "load_dotenv()\n",
    "\n",
    "# Kafka 설정\n",
    "conf = {\n",
    "    \"bootstrap.servers\": os.getenv(\"BOOTSTRAP_SERVERS\"),\n",
    "    \"security.protocol\": \"SASL_SSL\",\n",
    "    \"sasl.mechanisms\": \"PLAIN\",\n",
    "    \"sasl.username\": os.getenv(\"SASL_USERNAME\"),\n",
    "    \"sasl.password\": os.getenv(\"SASL_PASSWORD\"),\n",
    "    \"client.id\": \"json-serial-producer\"\n",
    "}\n",
    "producer = Producer(conf)\n",
    "\n",
    "# Kafka 토픽 설정\n",
    "topic = \"raw_topic\"\n",
    "\n",
    "# 메시지 전송 결과를 처리하는 콜백 함수\n",
    "def delivery_report(err, msg):\n",
    "    \"\"\"\n",
    "    Kafka로 메시지를 전송한 후 결과를 출력하는 콜백 함수\n",
    "    :param err: 오류 정보 (있을 경우)\n",
    "    :param msg: 전송된 메시지 정보\n",
    "    \"\"\"\n",
    "    if err:\n",
    "        print(f\"Message delivery failed: {err}\")\n",
    "    else:\n",
    "        print(f\"Message delivered successfully! Key: {msg.key()}\")\n",
    "\n",
    "# 체크포인트를 읽는 함수 (이전 실행 위치 저장)\n",
    "def read_checkpoint(checkpoint_file):\n",
    "    \"\"\"\n",
    "    체크포인트 파일에서 마지막으로 처리한 라인의 인덱스를 읽어옴\n",
    "    :param checkpoint_file: 체크포인트 파일 경로\n",
    "    :return: 마지막으로 처리한 라인의 인덱스 (없으면 0 반환)\n",
    "    \"\"\"\n",
    "    if os.path.exists(checkpoint_file):\n",
    "        with open(checkpoint_file, 'r') as file:\n",
    "            return int(file.read().strip())\n",
    "    return 0\n",
    "\n",
    "# 체크포인트를 업데이트하는 함수\n",
    "def write_checkpoint(checkpoint_file, index):\n",
    "    \"\"\"\n",
    "    체크포인트 파일을 업데이트하여 마지막으로 처리한 라인의 인덱스를 저장\n",
    "    :param checkpoint_file: 체크포인트 파일 경로\n",
    "    :param index: 현재까지 처리한 마지막 라인 번호\n",
    "    \"\"\"\n",
    "    with open(checkpoint_file, 'w') as file:\n",
    "        file.write(str(index))\n",
    "    print(f\"Checkpoint updated to line: {index}\")\n",
    "\n",
    "# 날짜 데이터를 JSON 직렬화할 수 있도록 변환하는 함수\n",
    "def handle_date(obj):\n",
    "    \"\"\"\n",
    "    pandas.Timestamp 객체를 JSON 형식의 문자열로 변환\n",
    "    :param obj: 변환할 객체\n",
    "    :return: 문자열 형식의 날짜 (예: 'YYYY-MM-DD HH:MM:SS')\n",
    "    \"\"\"\n",
    "    if isinstance(obj, pd.Timestamp):\n",
    "        return obj.strftime('%Y-%m-%d %H:%M:%S')\n",
    "    raise TypeError(f\"Object of type {type(obj).__name__} is not JSON serializable\")\n",
    "\n",
    "# JSON 데이터를 한 줄씩 Kafka로 전송하는 함수\n",
    "def stream_json_serially(file_path, checkpoint_file='/kaggle/working/checkpoint.txt'):\n",
    "    \"\"\"\n",
    "    JSON 데이터를 한 줄씩 읽어 Kafka로 전송\n",
    "    :param file_path: 입력 JSON 파일 경로\n",
    "    :param checkpoint_file: 체크포인트 파일 경로 (이전 처리 위치 저장)\n",
    "    \"\"\"\n",
    "    last_sent_index = read_checkpoint(checkpoint_file)\n",
    "\n",
    "    with open(file_path, 'r') as file:\n",
    "        for idx, line in enumerate(file):\n",
    "            if idx < last_sent_index:\n",
    "                continue\n",
    "\n",
    "            try:\n",
    "                record = json.loads(line)\n",
    "                producer.produce(\n",
    "                    topic,\n",
    "                    key=str(record['review_id']),\n",
    "                    value=json.dumps(record, default=handle_date).encode('utf-8'),\n",
    "                    callback=delivery_report\n",
    "                )\n",
    "\n",
    "                producer.flush()\n",
    "                write_checkpoint(checkpoint_file, idx + 1)\n",
    "\n",
    "            except json.JSONDecodeError as e:\n",
    "                print(f\"Failed to decode JSON: {e}\")\n",
    "\n",
    "# 실행\n",
    "if __name__ == \"__main__\":\n",
    "    stream_json_serially('/kaggle/input/yelp-dataset/yelp_academic_dataset_review.json')\n"
   ]
  }
 ],
 "metadata": {
  "kaggle": {
   "accelerator": "none",
   "dataSources": [
    {
     "datasetId": 10100,
     "sourceId": 3316532,
     "sourceType": "datasetVersion"
    }
   ],
   "dockerImageVersionId": 30839,
   "isGpuEnabled": false,
   "isInternetEnabled": true,
   "language": "python",
   "sourceType": "notebook"
  },
  "kernelspec": {
   "display_name": "Python 3",
   "language": "python",
   "name": "python3"
  },
  "language_info": {
   "codemirror_mode": {
    "name": "ipython",
    "version": 3
   },
   "file_extension": ".py",
   "mimetype": "text/x-python",
   "name": "python",
   "nbconvert_exporter": "python",
   "pygments_lexer": "ipython3",
   "version": "3.10.12"
  }
 },
 "nbformat": 4,
 "nbformat_minor": 4
}
