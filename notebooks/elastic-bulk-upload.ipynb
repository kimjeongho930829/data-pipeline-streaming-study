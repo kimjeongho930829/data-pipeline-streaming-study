{
 "cells": [
  {
   "cell_type": "code",
   "execution_count": null,
   "metadata": {
    "_cell_guid": "b1076dfc-b9ad-4769-8c92-a6c4dae69d19",
    "_uuid": "8f2839f25d086af736a60e9eeb907d3b93b6e0e5",
    "execution": {
     "iopub.execute_input": "2025-02-01T07:10:05.446718Z",
     "iopub.status.busy": "2025-02-01T07:10:05.446277Z",
     "iopub.status.idle": "2025-02-01T07:10:12.115703Z",
     "shell.execute_reply": "2025-02-01T07:10:12.114445Z",
     "shell.execute_reply.started": "2025-02-01T07:10:05.446680Z"
    },
    "trusted": true
   },
   "outputs": [],
   "source": [
    "!pip install elasticsearch"
   ]
  },
  {
   "cell_type": "code",
   "execution_count": null,
   "metadata": {
    "execution": {
     "iopub.execute_input": "2025-02-01T07:41:23.784414Z",
     "iopub.status.busy": "2025-02-01T07:41:23.783989Z",
     "iopub.status.idle": "2025-02-01T07:47:02.623889Z",
     "shell.execute_reply": "2025-02-01T07:47:02.622780Z",
     "shell.execute_reply.started": "2025-02-01T07:41:23.784387Z"
    },
    "trusted": true
   },
   "outputs": [],
   "source": [
    "import json\n",
    "import os\n",
    "from dotenv import load_dotenv\n",
    "from elasticsearch import Elasticsearch, helpers\n",
    "\n",
    "# .env 파일 로드\n",
    "load_dotenv()\n",
    "\n",
    "# 환경 변수 가져오기\n",
    "ELASTICSEARCH_HOST = os.getenv(\"ELASTICSEARCH_HOST\")\n",
    "ELASTICSEARCH_USER = os.getenv(\"ELASTICSEARCH_USER\")\n",
    "ELASTICSEARCH_PASSWORD = os.getenv(\"ELASTICSEARCH_PASSWORD\")\n",
    "\n",
    "# 엘라스틱서치 연결\n",
    "client = Elasticsearch(\n",
    "    ELASTICSEARCH_HOST,\n",
    "    verify_certs=False,\n",
    "    basic_auth=(ELASTICSEARCH_USER, ELASTICSEARCH_PASSWORD)\n",
    ")\n",
    "\n",
    "# 파일 읽기 및 데이터 삽입\n",
    "with open(\"/kaggle/input/yelp-dataset/yelp_academic_dataset_business.json\") as f:\n",
    "    data = []\n",
    "    for line in f:\n",
    "        try:\n",
    "            doc = json.loads(line.strip())\n",
    "            data.append(doc)\n",
    "        except json.JSONDecodeError as e:\n",
    "            print(f\"Error decoding JSON: {e}\")\n",
    "\n",
    "    helpers.bulk(client, data, index=\"business\")\n"
   ]
  }
 ],
 "metadata": {
  "kaggle": {
   "accelerator": "none",
   "dataSources": [
    {
     "datasetId": 10100,
     "sourceId": 3316532,
     "sourceType": "datasetVersion"
    }
   ],
   "dockerImageVersionId": 30839,
   "isGpuEnabled": false,
   "isInternetEnabled": true,
   "language": "python",
   "sourceType": "notebook"
  },
  "kernelspec": {
   "display_name": "eddy",
   "language": "python",
   "name": "python3"
  },
  "language_info": {
   "codemirror_mode": {
    "name": "ipython",
    "version": 3
   },
   "file_extension": ".py",
   "mimetype": "text/x-python",
   "name": "python",
   "nbconvert_exporter": "python",
   "pygments_lexer": "ipython3",
   "version": "3.11.5"
  }
 },
 "nbformat": 4,
 "nbformat_minor": 4
}
